{
  "nbformat": 4,
  "nbformat_minor": 0,
  "metadata": {
    "colab": {
      "name": "MutualTLSLab1.ipynb",
      "provenance": [],
      "authorship_tag": "ABX9TyMBTliGQlLdlYe8/gDLdnr/",
      "include_colab_link": true
    },
    "kernelspec": {
      "name": "python3",
      "display_name": "Python 3"
    },
    "language_info": {
      "name": "python"
    }
  },
  "cells": [
    {
      "cell_type": "markdown",
      "metadata": {
        "id": "view-in-github",
        "colab_type": "text"
      },
      "source": [
        "<a href=\"https://colab.research.google.com/github/rajasabd/LinuxBuildYacto/blob/main/MutualTLSLab1.ipynb\" target=\"_parent\"><img src=\"https://colab.research.google.com/assets/colab-badge.svg\" alt=\"Open In Colab\"/></a>"
      ]
    },
    {
      "cell_type": "markdown",
      "source": [
        "Create CA\n",
        "\n",
        "Generate the root key"
      ],
      "metadata": {
        "id": "YcEaEqGTqLtG"
      }
    },
    {
      "cell_type": "code",
      "source": [
        "!openssl genrsa -des3 -out myCA.key 2048"
      ],
      "metadata": {
        "id": "eizHkQfLqkWU"
      },
      "execution_count": null,
      "outputs": []
    },
    {
      "cell_type": "markdown",
      "source": [
        "Generate a root-certificate based on the root-key\n"
      ],
      "metadata": {
        "id": "A3jYJ5O3rF-D"
      }
    },
    {
      "cell_type": "code",
      "source": [
        "!openssl req -x509 -new -nodes -key myCA.key -sha256 -days 1825 -out myCA.pem\n"
      ],
      "metadata": {
        "id": "CjSOItsnrPL5"
      },
      "execution_count": null,
      "outputs": []
    }
  ]
}