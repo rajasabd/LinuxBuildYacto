{
  "nbformat": 4,
  "nbformat_minor": 0,
  "metadata": {
    "colab": {
      "name": "YOLOv3 Tutorial",
      "provenance": [],
      "collapsed_sections": [],
      "include_colab_link": true
    },
    "kernelspec": {
      "name": "python3",
      "display_name": "Python 3"
    }
  },
  "cells": [
    {
      "cell_type": "markdown",
      "metadata": {
        "id": "view-in-github",
        "colab_type": "text"
      },
      "source": [
        "<a href=\"https://colab.research.google.com/github/rajasabd/LinuxBuildYacto/blob/main/YactoBuild.ipynb\" target=\"_parent\"><img src=\"https://colab.research.google.com/assets/colab-badge.svg\" alt=\"Open In Colab\"/></a>"
      ]
    },
    {
      "cell_type": "markdown",
      "metadata": {
        "id": "7mGmQbAO5pQb"
      },
      "source": [
        "# Setup\n",
        "\n",
        "Clone repo, install dependencies."
      ]
    },
    {
      "cell_type": "code",
      "source": [
        "%mkdir rpi\n",
        "%mkdir sources\n",
        "%mkdir rpi/sources\n",
        "%cd rpi/sources"
      ],
      "metadata": {
        "id": "LAOE5wW9Pmq_"
      },
      "execution_count": 6,
      "outputs": []
    },
    {
      "cell_type": "markdown",
      "source": [
        "Download the layers we'll need. Yocto distributions are built using a number of \"layers\"\n"
      ],
      "metadata": {
        "id": "ZUqkSgKRQzd_"
      }
    },
    {
      "cell_type": "code",
      "source": [
        "!git clone -b rocko git://git.yoctoproject.org/poky\n",
        "!git clone -b rocko git://git.openembedded.org/meta-openembedded\n",
        "!git clone -b rocko git://git.yoctoproject.org/meta-raspberrypi\n",
        "!git clone https://github.com/imyller/meta-nodejs.git\n",
        "!git clone https://gitlab.com/8bitrobots/meta-8bitrobots.git\n",
        "!git clone https://github.com/OSSystems/meta-browser.git"
      ],
      "metadata": {
        "id": "VSZO38DzQThc"
      },
      "execution_count": null,
      "outputs": []
    },
    {
      "cell_type": "markdown",
      "source": [
        "Create a build configuration"
      ],
      "metadata": {
        "id": "VsmU-z1cQsKN"
      }
    },
    {
      "cell_type": "code",
      "source": [
        "cd ~/rpi\n",
        "source sources/poky/oe-init-build-env rpi-build"
      ],
      "metadata": {
        "id": "L6UaxLmSQq_o"
      },
      "execution_count": null,
      "outputs": []
    }
  ]
}