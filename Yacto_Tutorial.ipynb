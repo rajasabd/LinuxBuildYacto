{
  "nbformat": 4,
  "nbformat_minor": 0,
  "metadata": {
    "colab": {
      "name": "Yacto Tutorial",
      "provenance": [],
      "collapsed_sections": [],
      "include_colab_link": true
    },
    "kernelspec": {
      "name": "python3",
      "display_name": "Python 3"
    }
  },
  "cells": [
    {
      "cell_type": "markdown",
      "metadata": {
        "id": "view-in-github",
        "colab_type": "text"
      },
      "source": [
        "<a href=\"https://colab.research.google.com/github/rajasabd/LinuxBuildYacto/blob/main/Yacto_Tutorial.ipynb\" target=\"_parent\"><img src=\"https://colab.research.google.com/assets/colab-badge.svg\" alt=\"Open In Colab\"/></a>"
      ]
    },
    {
      "cell_type": "markdown",
      "metadata": {
        "id": "7mGmQbAO5pQb"
      },
      "source": [
        "# Setup\n",
        "\n",
        "Clone repo, install dependencies."
      ]
    },
    {
      "cell_type": "code",
      "source": [
        "!apt-get update"
      ],
      "metadata": {
        "id": "Ydcjp_N9WbVZ"
      },
      "execution_count": null,
      "outputs": []
    },
    {
      "cell_type": "code",
      "source": [
        "!apt-get install gawk wget git-core diffstat unzip texinfo gcc-multilib build-essential chrpath socat cpio python\n",
        "!apt-get install python3-pip python3-pexpect xz-utils debianutils iputils-ping libsdl1.2-dev xterm"
      ],
      "metadata": {
        "id": "NDhzS2clU3Lh"
      },
      "execution_count": null,
      "outputs": []
    },
    {
      "cell_type": "code",
      "source": [
        "!sudo apt-get install gawk wget git-core diffstat unzip texinfo gcc-multilib \\\n",
        "     build-essential chrpath socat cpio python3 python3-pip python3-pexpect \\\n",
        "     xz-utils debianutils iputils-ping python3-git python3-jinja2 libegl1-mesa libsdl1.2-dev \\\n",
        "     pylint3 xterm"
      ],
      "metadata": {
        "id": "F7if4JywX3G9"
      },
      "execution_count": null,
      "outputs": []
    },
    {
      "cell_type": "code",
      "source": [
        "%mkdir rpi\n",
        "%mkdir rpi/sources\n",
        "%cd rpi/sources"
      ],
      "metadata": {
        "id": "LAOE5wW9Pmq_",
        "colab": {
          "base_uri": "https://localhost:8080/"
        },
        "outputId": "0b1c2cde-7116-4773-e567-7ace14c6e78f"
      },
      "execution_count": 1,
      "outputs": [
        {
          "output_type": "stream",
          "name": "stdout",
          "text": [
            "/content/rpi/sources\n"
          ]
        }
      ]
    },
    {
      "cell_type": "markdown",
      "source": [
        "Download the layers we'll need. Yocto distributions are built using a number of \"layers\"\n"
      ],
      "metadata": {
        "id": "ZUqkSgKRQzd_"
      }
    },
    {
      "cell_type": "code",
      "source": [
        "!git clone -b rocko git://git.yoctoproject.org/poky\n",
        "!git clone -b rocko git://git.openembedded.org/meta-openembedded\n",
        "!git clone -b rocko git://git.yoctoproject.org/meta-raspberrypi\n",
        "!git clone https://github.com/imyller/meta-nodejs.git\n",
        "!git clone https://gitlab.com/8bitrobots/meta-8bitrobots.git\n",
        "!git clone https://github.com/OSSystems/meta-browser.git"
      ],
      "metadata": {
        "id": "VSZO38DzQThc"
      },
      "execution_count": null,
      "outputs": []
    },
    {
      "cell_type": "markdown",
      "source": [
        "Create a build configuration"
      ],
      "metadata": {
        "id": "VsmU-z1cQsKN"
      }
    },
    {
      "cell_type": "code",
      "source": [
        "!conda create -n python2p7 python=2.7\n",
        "!source activate python2p7"
      ],
      "metadata": {
        "colab": {
          "base_uri": "https://localhost:8080/"
        },
        "id": "GPaRn0RsYj7c",
        "outputId": "01c9e1a1-802d-4c15-f735-6b962abaaf6f"
      },
      "execution_count": 30,
      "outputs": [
        {
          "output_type": "stream",
          "name": "stdout",
          "text": [
            "/bin/bash: conda: command not found\n",
            "/bin/bash: activate: No such file or directory\n"
          ]
        }
      ]
    },
    {
      "cell_type": "code",
      "source": [
        "!ln -s /usr/bin/python2.7 ~/bin/python\n",
        "%cd /content/rpi\n",
        "!!source sources/poky/oe-init-build-env rpi-build"
      ],
      "metadata": {
        "id": "L6UaxLmSQq_o",
        "colab": {
          "base_uri": "https://localhost:8080/"
        },
        "outputId": "ea1bd0ae-3a54-40a2-e3f8-2221c48d0a40"
      },
      "execution_count": 33,
      "outputs": [
        {
          "output_type": "stream",
          "name": "stdout",
          "text": [
            "ln: failed to create symbolic link '/root/bin/python': No such file or directory\n",
            "/content/rpi\n"
          ]
        },
        {
          "output_type": "execute_result",
          "data": {
            "text/plain": [
              "[\"OpenEmbedded requires 'python' to be python v2 (>= 2.7.3), not python v3.\",\n",
              " \"Please set up python v2 as your default 'python' interpreter.\"]"
            ]
          },
          "metadata": {},
          "execution_count": 33
        }
      ]
    }
  ]
}